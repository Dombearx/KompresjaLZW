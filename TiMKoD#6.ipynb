{
 "cells": [
  {
   "cell_type": "code",
   "execution_count": 1,
   "metadata": {},
   "outputs": [],
   "source": [
    "#Kompresja LZW\n",
    "\n",
    "#jednocześnie tworzenie słownika i kodowanie"
   ]
  },
  {
   "cell_type": "code",
   "execution_count": 2,
   "metadata": {},
   "outputs": [],
   "source": [
    "from random import randint\n",
    "import random as random\n",
    "from math import log\n",
    "import bitarray as ba\n",
    "import operator"
   ]
  },
  {
   "cell_type": "code",
   "execution_count": 3,
   "metadata": {},
   "outputs": [],
   "source": [
    "def read_file(file):\n",
    "    return open(file).read()"
   ]
  },
  {
   "cell_type": "code",
   "execution_count": 4,
   "metadata": {},
   "outputs": [],
   "source": [
    "#słownik dla liczb od 0 - 255\n",
    "def generateDictionary():\n",
    "    dict = {}\n",
    "    for i in range(256):\n",
    "        dict[bin(i)[2:].zfill(8)] = i\n",
    "    \n",
    "    return dict"
   ]
  },
  {
   "cell_type": "code",
   "execution_count": null,
   "metadata": {},
   "outputs": [],
   "source": []
  },
  {
   "cell_type": "code",
   "execution_count": 5,
   "metadata": {},
   "outputs": [],
   "source": [
    "def read_file_bin(file_name):\n",
    "    bit_array = ba.bitarray()\n",
    "    with open(file_name, 'rb') as fh:\n",
    "        bit_array.fromfile(fh)\n",
    "    return bit_array"
   ]
  },
  {
   "cell_type": "code",
   "execution_count": 6,
   "metadata": {},
   "outputs": [],
   "source": [
    "def save_file_bin(file_name, bit_array):\n",
    "    with open(file_name, 'wb') as fh:\n",
    "        bit_array.tofile(fh)\n",
    "    return 1"
   ]
  },
  {
   "cell_type": "code",
   "execution_count": 7,
   "metadata": {},
   "outputs": [],
   "source": [
    "wikipedia = read_file_bin(\"norm_wiki_sample.txt\")"
   ]
  },
  {
   "cell_type": "code",
   "execution_count": 8,
   "metadata": {},
   "outputs": [],
   "source": [
    "test = read_file_bin(\"test.txt\")"
   ]
  },
  {
   "cell_type": "code",
   "execution_count": 9,
   "metadata": {},
   "outputs": [],
   "source": [
    "#Koduje tekst\n",
    "def encode(text):\n",
    "    dict = generateDictionary()\n",
    "    \n",
    "    numbers = []\n",
    "    max_dict_val = max(dict.values())\n",
    "    \n",
    "    \n",
    "    \n",
    "    print(\"max_dict_val\", max_dict_val)\n",
    "    \n",
    "    coded_text = ba.bitarray()\n",
    "    \n",
    "    p = text[0:8].to01()\n",
    "\n",
    "    \n",
    "    \n",
    "    for i in range(8, len(text), 8):\n",
    "        #c - obecny ciąg binarny\n",
    "        c = text[i:i+8].to01()\n",
    "        if p + c in dict:\n",
    "            #kod znajduje się w słowniku\n",
    "            p = p + c\n",
    "        else:\n",
    "            #kod nie znajduje się w słowniku\n",
    "            numbers.append(dict[p])\n",
    "            dict[p + c] = max_dict_val + 1\n",
    "            max_dict_val += 1            \n",
    "            p = c\n",
    "        \n",
    "    max_number = max(numbers)\n",
    "    max_length = len(bin(max_number)[2:])\n",
    "    print(\"max_num\", max_number)\n",
    "    print(\"bin(max_number)\", bin(max_number)[2:])\n",
    "    print(\"max_length\", max_length)\n",
    "    \n",
    "    for number in numbers:\n",
    "        for b in bin(number).zfill(max_length):\n",
    "            if b == '1':\n",
    "                coded_text.append(True)\n",
    "            else:\n",
    "                coded_text.append(False) \n",
    "  \n",
    "    print(\"done\")\n",
    "    return coded_text, max_length"
   ]
  },
  {
   "cell_type": "code",
   "execution_count": 10,
   "metadata": {},
   "outputs": [],
   "source": [
    "#Zapis kodu i zakodowanego tekstu do pliku\n",
    "def save(text, file_name):\n",
    "    \n",
    "    save_file_bin(text, file_name)  \n",
    "    \n",
    "    return 0"
   ]
  },
  {
   "cell_type": "code",
   "execution_count": null,
   "metadata": {},
   "outputs": [],
   "source": [
    "\n"
   ]
  },
  {
   "cell_type": "code",
   "execution_count": null,
   "metadata": {},
   "outputs": [],
   "source": [
    "\n"
   ]
  },
  {
   "cell_type": "code",
   "execution_count": null,
   "metadata": {},
   "outputs": [],
   "source": [
    "\n"
   ]
  },
  {
   "cell_type": "code",
   "execution_count": null,
   "metadata": {},
   "outputs": [],
   "source": [
    "\n"
   ]
  },
  {
   "cell_type": "code",
   "execution_count": 11,
   "metadata": {},
   "outputs": [],
   "source": [
    "import struct"
   ]
  },
  {
   "cell_type": "code",
   "execution_count": null,
   "metadata": {},
   "outputs": [],
   "source": []
  },
  {
   "cell_type": "code",
   "execution_count": 19,
   "metadata": {},
   "outputs": [],
   "source": [
    "#słownik dla liczb od 0 - 255\n",
    "def generateDictionaryZFill(fill_num):\n",
    "    dict = {}\n",
    "    for i in range(256):\n",
    "        dict[bin(i)[2:].zfill(fill_num)] = bin(i)[2:].zfill(fill_num)\n",
    "    \n",
    "    return dict"
   ]
  },
  {
   "cell_type": "code",
   "execution_count": 28,
   "metadata": {},
   "outputs": [],
   "source": [
    "#Dekoduje tekst\n",
    "def decode(coded_text, code_len):\n",
    "    \n",
    "    dictionary = generateDictionaryZFill(code_len)\n",
    "    \n",
    "    max_dict_val = int(max(dictionary.values()), 2)   \n",
    "    print(\"max_dict_val\", max_dict_val)\n",
    "    \n",
    "    #swap key and value\n",
    "    #dictionary = dict((v,k) for k,v in dictionary.items())\n",
    "    \n",
    "    encoded_text = []\n",
    "    \n",
    "    #encoded_text = ba.bitarray()\n",
    "    \n",
    "    #pierwszy element dodany do słownika\n",
    "    p = coded_text[0:code_len].to01()\n",
    "    #p = int(p, 2)\n",
    "    print(\"p: \", p)\n",
    "    max_dict_val += 1 \n",
    "    dictionary[bin(max_dict_val)[2:].zfill(code_len)] = dictionary[p]\n",
    "    \n",
    "    \n",
    "    encoded_text.append(dictionary[p])\n",
    "    \n",
    "    for i in range(code_len, len(coded_text), code_len):\n",
    "        #c - obecny ciąg binarny\n",
    "        c = coded_text[i:i+code_len].to01()\n",
    "        #c = int(c, 2)\n",
    "                \n",
    "        try:\n",
    "            test1 = dictionary[c]\n",
    "        except:\n",
    "            print(\"c\", c)\n",
    "            print(\"max_val\", max_dict_val)\n",
    "            \n",
    "        dictionary[bin(max_dict_val)[2:].zfill(code_len)] = dictionary[bin(max_dict_val)[2:].zfill(code_len)] + test1\n",
    "        encoded_text.append(dictionary[c])        \n",
    "        max_dict_val += 1 \n",
    "        dictionary[bin(max_dict_val)[2:].zfill(code_len)] = dictionary[c]\n",
    "        \n",
    "    \n",
    "    print(\"done\")\n",
    "    return encoded_text\n"
   ]
  },
  {
   "cell_type": "code",
   "execution_count": null,
   "metadata": {},
   "outputs": [],
   "source": []
  },
  {
   "cell_type": "code",
   "execution_count": null,
   "metadata": {},
   "outputs": [],
   "source": []
  },
  {
   "cell_type": "code",
   "execution_count": 14,
   "metadata": {},
   "outputs": [],
   "source": [
    "def save_file(file_name):\n",
    "    result = open(file_name, 'w')\n",
    "    \n",
    "    for text, num in code.items():\n",
    "        result.write(text + \";\" + str(num) + \";\")\n",
    "    \n",
    "    result.close()\n",
    "    return result"
   ]
  },
  {
   "cell_type": "code",
   "execution_count": 15,
   "metadata": {},
   "outputs": [],
   "source": [
    "#Wczytuje plik binarny\n",
    "def load(file_name):\n",
    "    \n",
    "    file = read_file_bin(file_name)\n",
    "    \n",
    "    return file"
   ]
  },
  {
   "cell_type": "code",
   "execution_count": 16,
   "metadata": {},
   "outputs": [],
   "source": [
    "def compare_strings(original, new_string):\n",
    "    for org, new in zip(original, new_string):\n",
    "        if org != new:\n",
    "            print(org, \"!=\", new)\n",
    "            return \"Teksty są różne\"\n",
    "    return \"Teksty sa równe\""
   ]
  },
  {
   "cell_type": "code",
   "execution_count": null,
   "metadata": {},
   "outputs": [],
   "source": []
  },
  {
   "cell_type": "code",
   "execution_count": null,
   "metadata": {},
   "outputs": [],
   "source": []
  },
  {
   "cell_type": "code",
   "execution_count": 17,
   "metadata": {},
   "outputs": [],
   "source": [
    "lena = load(\"lena.bmp\")"
   ]
  },
  {
   "cell_type": "code",
   "execution_count": 18,
   "metadata": {},
   "outputs": [
    {
     "name": "stdout",
     "output_type": "stream",
     "text": [
      "max_dict_val 255\n",
      "max_num 2683602\n",
      "bin(max_number) 1010001111001011010010\n",
      "max_length 22\n",
      "done\n"
     ]
    }
   ],
   "source": [
    "coded_lena, code_len = encode(lena)"
   ]
  },
  {
   "cell_type": "code",
   "execution_count": 21,
   "metadata": {},
   "outputs": [
    {
     "data": {
      "text/plain": [
       "0"
      ]
     },
     "execution_count": 21,
     "metadata": {},
     "output_type": "execute_result"
    }
   ],
   "source": [
    "save(\"coded_lena\", coded_lena)"
   ]
  },
  {
   "cell_type": "code",
   "execution_count": 22,
   "metadata": {},
   "outputs": [],
   "source": [
    "coded_lena = load(\"coded_lena\")"
   ]
  },
  {
   "cell_type": "code",
   "execution_count": 29,
   "metadata": {},
   "outputs": [
    {
     "name": "stdout",
     "output_type": "stream",
     "text": [
      "max_dict_val 255\n",
      "p:  0000000000000001000010\n",
      "c 1001000000111011001001\n",
      "max_val 1049031\n"
     ]
    },
    {
     "ename": "KeyError",
     "evalue": "'1001000000111011001001'",
     "output_type": "error",
     "traceback": [
      "\u001b[1;31m---------------------------------------------------------------------------\u001b[0m",
      "\u001b[1;31mKeyError\u001b[0m                                  Traceback (most recent call last)",
      "\u001b[1;32m<ipython-input-29-23c3c17d6860>\u001b[0m in \u001b[0;36m<module>\u001b[1;34m()\u001b[0m\n\u001b[1;32m----> 1\u001b[1;33m \u001b[0mdecoded_lena\u001b[0m \u001b[1;33m=\u001b[0m \u001b[0mdecode\u001b[0m\u001b[1;33m(\u001b[0m\u001b[0mcoded_lena\u001b[0m\u001b[1;33m,\u001b[0m \u001b[0mcode_len\u001b[0m\u001b[1;33m)\u001b[0m\u001b[1;33m\u001b[0m\u001b[0m\n\u001b[0m",
      "\u001b[1;32m<ipython-input-28-77bb0be57ea9>\u001b[0m in \u001b[0;36mdecode\u001b[1;34m(coded_text, code_len)\u001b[0m\n\u001b[0;32m     36\u001b[0m \u001b[1;33m\u001b[0m\u001b[0m\n\u001b[0;32m     37\u001b[0m         \u001b[0mdictionary\u001b[0m\u001b[1;33m[\u001b[0m\u001b[0mbin\u001b[0m\u001b[1;33m(\u001b[0m\u001b[0mmax_dict_val\u001b[0m\u001b[1;33m)\u001b[0m\u001b[1;33m[\u001b[0m\u001b[1;36m2\u001b[0m\u001b[1;33m:\u001b[0m\u001b[1;33m]\u001b[0m\u001b[1;33m.\u001b[0m\u001b[0mzfill\u001b[0m\u001b[1;33m(\u001b[0m\u001b[0mcode_len\u001b[0m\u001b[1;33m)\u001b[0m\u001b[1;33m]\u001b[0m \u001b[1;33m=\u001b[0m \u001b[0mdictionary\u001b[0m\u001b[1;33m[\u001b[0m\u001b[0mbin\u001b[0m\u001b[1;33m(\u001b[0m\u001b[0mmax_dict_val\u001b[0m\u001b[1;33m)\u001b[0m\u001b[1;33m[\u001b[0m\u001b[1;36m2\u001b[0m\u001b[1;33m:\u001b[0m\u001b[1;33m]\u001b[0m\u001b[1;33m.\u001b[0m\u001b[0mzfill\u001b[0m\u001b[1;33m(\u001b[0m\u001b[0mcode_len\u001b[0m\u001b[1;33m)\u001b[0m\u001b[1;33m]\u001b[0m \u001b[1;33m+\u001b[0m \u001b[0mtest1\u001b[0m\u001b[1;33m\u001b[0m\u001b[0m\n\u001b[1;32m---> 38\u001b[1;33m         \u001b[0mencoded_text\u001b[0m\u001b[1;33m.\u001b[0m\u001b[0mappend\u001b[0m\u001b[1;33m(\u001b[0m\u001b[0mdictionary\u001b[0m\u001b[1;33m[\u001b[0m\u001b[0mc\u001b[0m\u001b[1;33m]\u001b[0m\u001b[1;33m)\u001b[0m\u001b[1;33m\u001b[0m\u001b[0m\n\u001b[0m\u001b[0;32m     39\u001b[0m         \u001b[0mmax_dict_val\u001b[0m \u001b[1;33m+=\u001b[0m \u001b[1;36m1\u001b[0m\u001b[1;33m\u001b[0m\u001b[0m\n\u001b[0;32m     40\u001b[0m         \u001b[0mdictionary\u001b[0m\u001b[1;33m[\u001b[0m\u001b[0mbin\u001b[0m\u001b[1;33m(\u001b[0m\u001b[0mmax_dict_val\u001b[0m\u001b[1;33m)\u001b[0m\u001b[1;33m[\u001b[0m\u001b[1;36m2\u001b[0m\u001b[1;33m:\u001b[0m\u001b[1;33m]\u001b[0m\u001b[1;33m.\u001b[0m\u001b[0mzfill\u001b[0m\u001b[1;33m(\u001b[0m\u001b[0mcode_len\u001b[0m\u001b[1;33m)\u001b[0m\u001b[1;33m]\u001b[0m \u001b[1;33m=\u001b[0m \u001b[0mdictionary\u001b[0m\u001b[1;33m[\u001b[0m\u001b[0mc\u001b[0m\u001b[1;33m]\u001b[0m\u001b[1;33m\u001b[0m\u001b[0m\n",
      "\u001b[1;31mKeyError\u001b[0m: '1001000000111011001001'"
     ]
    }
   ],
   "source": [
    "decoded_lena = decode(coded_lena, code_len)"
   ]
  },
  {
   "cell_type": "code",
   "execution_count": 39,
   "metadata": {},
   "outputs": [
    {
     "data": {
      "text/plain": [
       "0"
      ]
     },
     "execution_count": 39,
     "metadata": {},
     "output_type": "execute_result"
    }
   ],
   "source": [
    "save(\"lena2.bmp\", coded_lena)"
   ]
  },
  {
   "cell_type": "code",
   "execution_count": 37,
   "metadata": {},
   "outputs": [
    {
     "name": "stdout",
     "output_type": "stream",
     "text": [
      "True != False\n"
     ]
    },
    {
     "data": {
      "text/plain": [
       "'Teksty są różne'"
      ]
     },
     "execution_count": 37,
     "metadata": {},
     "output_type": "execute_result"
    }
   ],
   "source": [
    "compare_strings(lena, coded_lena)"
   ]
  },
  {
   "cell_type": "code",
   "execution_count": 34,
   "metadata": {
    "collapsed": true
   },
   "outputs": [],
   "source": []
  },
  {
   "cell_type": "code",
   "execution_count": 35,
   "metadata": {},
   "outputs": [
    {
     "data": {
      "text/plain": [
       "0"
      ]
     },
     "execution_count": 35,
     "metadata": {},
     "output_type": "execute_result"
    }
   ],
   "source": []
  },
  {
   "cell_type": "code",
   "execution_count": 36,
   "metadata": {
    "collapsed": true
   },
   "outputs": [],
   "source": []
  },
  {
   "cell_type": "code",
   "execution_count": 37,
   "metadata": {
    "collapsed": true
   },
   "outputs": [],
   "source": [
    "decoded = decode(coded, code)"
   ]
  },
  {
   "cell_type": "code",
   "execution_count": 38,
   "metadata": {},
   "outputs": [
    {
     "data": {
      "text/plain": [
       "'Teksty sa równe'"
      ]
     },
     "execution_count": 38,
     "metadata": {},
     "output_type": "execute_result"
    }
   ],
   "source": [
    "compare_strings(wikipedia, decoded)"
   ]
  },
  {
   "cell_type": "code",
   "execution_count": null,
   "metadata": {
    "collapsed": true
   },
   "outputs": [],
   "source": []
  },
  {
   "cell_type": "code",
   "execution_count": 40,
   "metadata": {
    "collapsed": true
   },
   "outputs": [],
   "source": [
    "length = 0\n",
    "i = 0\n",
    "\n",
    "for char, c in code.items():\n",
    "    i += chars[char]\n",
    "    length += len(c) * chars[char]\n",
    "    \n",
    "\n",
    "oczekiwana_dlugosc_kodu = length / i"
   ]
  },
  {
   "cell_type": "code",
   "execution_count": 41,
   "metadata": {},
   "outputs": [
    {
     "data": {
      "text/plain": [
       "4.3090155002237935"
      ]
     },
     "execution_count": 41,
     "metadata": {},
     "output_type": "execute_result"
    }
   ],
   "source": [
    "oczekiwana_dlugosc_kodu"
   ]
  },
  {
   "cell_type": "code",
   "execution_count": 42,
   "metadata": {
    "collapsed": true
   },
   "outputs": [],
   "source": [
    "efektywnosc_kodowania2 = entropia_wikipedii / oczekiwana_dlugosc_kodu"
   ]
  },
  {
   "cell_type": "code",
   "execution_count": 43,
   "metadata": {},
   "outputs": [
    {
     "data": {
      "text/plain": [
       "0.9933582848516693"
      ]
     },
     "execution_count": 43,
     "metadata": {},
     "output_type": "execute_result"
    }
   ],
   "source": [
    "efektywnosc_kodowania2"
   ]
  },
  {
   "cell_type": "code",
   "execution_count": null,
   "metadata": {
    "collapsed": true
   },
   "outputs": [],
   "source": []
  }
 ],
 "metadata": {
  "kernelspec": {
   "display_name": "Python 3",
   "language": "python",
   "name": "python3"
  },
  "language_info": {
   "codemirror_mode": {
    "name": "ipython",
    "version": 3
   },
   "file_extension": ".py",
   "mimetype": "text/x-python",
   "name": "python",
   "nbconvert_exporter": "python",
   "pygments_lexer": "ipython3",
   "version": "3.6.4"
  }
 },
 "nbformat": 4,
 "nbformat_minor": 1
}
