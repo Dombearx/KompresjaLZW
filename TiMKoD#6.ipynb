{
 "cells": [
  {
   "cell_type": "code",
   "execution_count": 1,
   "metadata": {},
   "outputs": [],
   "source": [
    "#Kompresja LZW\n",
    "\n",
    "#jednocześnie tworzenie słownika i kodowanie"
   ]
  },
  {
   "cell_type": "code",
   "execution_count": 2,
   "metadata": {},
   "outputs": [],
   "source": [
    "from random import randint\n",
    "import random as random\n",
    "from math import log\n",
    "import bitarray as ba\n",
    "import operator"
   ]
  },
  {
   "cell_type": "code",
   "execution_count": 3,
   "metadata": {},
   "outputs": [],
   "source": [
    "def read_file(file):\n",
    "    return open(file).read()"
   ]
  },
  {
   "cell_type": "code",
   "execution_count": 4,
   "metadata": {},
   "outputs": [],
   "source": [
    "#słownik dla liczb od 0 - 255\n",
    "def generateDictionary():\n",
    "    dict = {}\n",
    "    for i in range(256):\n",
    "        dict[bin(i)[2:].zfill(8)] = i\n",
    "    \n",
    "    return dict"
   ]
  },
  {
   "cell_type": "code",
   "execution_count": null,
   "metadata": {},
   "outputs": [],
   "source": []
  },
  {
   "cell_type": "code",
   "execution_count": 5,
   "metadata": {},
   "outputs": [],
   "source": [
    "def read_file_bin(file_name):\n",
    "    bit_array = ba.bitarray()\n",
    "    with open(file_name, 'rb') as fh:\n",
    "        bit_array.fromfile(fh)\n",
    "    return bit_array"
   ]
  },
  {
   "cell_type": "code",
   "execution_count": 6,
   "metadata": {},
   "outputs": [],
   "source": [
    "def save_file_bin(file_name, bit_array):\n",
    "    with open(file_name, 'wb') as fh:\n",
    "        bit_array.tofile(fh)\n",
    "    return 1"
   ]
  },
  {
   "cell_type": "code",
   "execution_count": 7,
   "metadata": {},
   "outputs": [],
   "source": [
    "wikipedia = read_file_bin(\"norm_wiki_sample.txt\")"
   ]
  },
  {
   "cell_type": "code",
   "execution_count": 167,
   "metadata": {},
   "outputs": [],
   "source": [
    "test = read_file_bin(\"test.txt\")"
   ]
  },
  {
   "cell_type": "code",
   "execution_count": 220,
   "metadata": {},
   "outputs": [],
   "source": [
    "#Koduje tekst\n",
    "def encode(text):\n",
    "    dictionary = generateDictionary()\n",
    "    \n",
    "    numbers = []\n",
    "    max_dict_val = max(dictionary.values())\n",
    "    \n",
    "    \n",
    "    \n",
    "    print(\"max_dict_val\", max_dict_val)\n",
    "    \n",
    "    coded_text = ba.bitarray()\n",
    "    \n",
    "    p = text[0:8].to01()\n",
    "    print(\"p: \", p)\n",
    "    \n",
    "    for i in range(8, len(text), 8):\n",
    "        #c - obecny ciąg binarny\n",
    "        c = text[i:i+8].to01()\n",
    "        if p + c in dictionary:\n",
    "            #kod znajduje się w słowniku\n",
    "            p = p + c\n",
    "        else:\n",
    "            #kod nie znajduje się w słowniku\n",
    "            numbers.append(dictionary[p])\n",
    "            max_dict_val += 1\n",
    "            dictionary[p + c] = max_dict_val                        \n",
    "            p = c\n",
    "            \n",
    "    numbers.append(dictionary[c]) \n",
    "        \n",
    "    max_number = max(numbers)\n",
    "    max_length = len(bin(max_number)[2:])\n",
    "    print(\"max_num\", max_number)\n",
    "    print(\"bin(max_number)\", bin(max_number)[2:])\n",
    "    print(\"max_length\", max_length)\n",
    "    \n",
    "    \n",
    "    dictionary = dict((v,k) for k,v in dictionary.items())\n",
    "\n",
    "    \n",
    "    \n",
    "    print(\"length numbers:\", len(numbers))\n",
    "    for number in numbers:\n",
    "        for b in bin(number)[2:].zfill(max_length):\n",
    "            if b == '1':\n",
    "                coded_text.append(True)\n",
    "            else:\n",
    "                coded_text.append(False) \n",
    "  \n",
    "    return coded_text, max_length"
   ]
  },
  {
   "cell_type": "code",
   "execution_count": 10,
   "metadata": {},
   "outputs": [],
   "source": [
    "#Zapis kodu i zakodowanego tekstu do pliku\n",
    "def save(text, file_name):\n",
    "    \n",
    "    save_file_bin(text, file_name)  \n",
    "    \n",
    "    return 0"
   ]
  },
  {
   "cell_type": "code",
   "execution_count": null,
   "metadata": {},
   "outputs": [],
   "source": [
    "\n"
   ]
  },
  {
   "cell_type": "code",
   "execution_count": 11,
   "metadata": {},
   "outputs": [],
   "source": [
    "import struct"
   ]
  },
  {
   "cell_type": "code",
   "execution_count": null,
   "metadata": {},
   "outputs": [],
   "source": []
  },
  {
   "cell_type": "code",
   "execution_count": 253,
   "metadata": {},
   "outputs": [],
   "source": [
    "#Dekoduje tekst\n",
    "def decode(coded_text, code_len):\n",
    "    \n",
    "    dictionary = generateDictionary()\n",
    "    \n",
    "    #swap key and value\n",
    "    dictionary = dict((v,k) for k,v in dictionary.items())\n",
    "    \n",
    "    max_dict_val = max(dictionary.keys())\n",
    "    print(\"max_dict_val\", max_dict_val)\n",
    "    \n",
    "    encoded_text = ba.bitarray()    \n",
    "    \n",
    "    #pierwszy element dodany do słownika\n",
    "    p = coded_text[0:code_len].to01()\n",
    "    p = int(p, 2)\n",
    "    print(\"p: \", p)\n",
    "    max_dict_val += 1 \n",
    "    dictionary[max_dict_val] = dictionary[p]\n",
    "    \n",
    "    \n",
    "    for b in dictionary[p]:      \n",
    "        print(\"b:\", b)\n",
    "        if b == '1':\n",
    "            encoded_text.append(True)\n",
    "        else:\n",
    "            encoded_text.append(False) \n",
    "    \n",
    "    print(dictionary[p])\n",
    "    \n",
    "    \n",
    "    progress = 0\n",
    "    step = 1\n",
    "    \n",
    "    t = 0\n",
    "\n",
    "    print(\"len(coded_text)\", len(coded_text))\n",
    "    print(\"len(coded_text)/code_len\", len(coded_text)/code_len)\n",
    "    length = (len(coded_text) // code_len) * code_len\n",
    "    print(\"length:\", length)\n",
    "    for i in range(code_len, length, code_len):\n",
    "        #c - obecny ciąg binarny\n",
    "        c = coded_text[i:i+code_len].to01()\n",
    "        c = int(c, 2) \n",
    "\n",
    "        dictionary[max_dict_val] = dictionary[max_dict_val] + dictionary[c][:8]\n",
    "        \n",
    "        t += 1\n",
    "        for b in dictionary[c]:\n",
    "            if b == '1':\n",
    "                encoded_text.append(True)\n",
    "            else:\n",
    "                encoded_text.append(False) \n",
    "        \n",
    "        max_dict_val += 1 \n",
    "        dictionary[max_dict_val] = dictionary[c]\n",
    "        \n",
    "        progress += code_len\n",
    "        if(progress > (len(coded_text) / 100) * step):\n",
    "            #print(step, \"%\")\n",
    "            step += 1\n",
    "            \n",
    "    print(\"processed numbers:\", t)\n",
    "    print(\"done\")\n",
    "    return encoded_text\n"
   ]
  },
  {
   "cell_type": "code",
   "execution_count": null,
   "metadata": {},
   "outputs": [],
   "source": []
  },
  {
   "cell_type": "code",
   "execution_count": null,
   "metadata": {},
   "outputs": [],
   "source": []
  },
  {
   "cell_type": "code",
   "execution_count": null,
   "metadata": {},
   "outputs": [],
   "source": []
  },
  {
   "cell_type": "code",
   "execution_count": 235,
   "metadata": {},
   "outputs": [],
   "source": [
    "def save_file(file_name):\n",
    "    result = open(file_name, 'w')\n",
    "    \n",
    "    for text, num in code.items():\n",
    "        result.write(text + \";\" + str(num) + \";\")\n",
    "    \n",
    "    result.close()\n",
    "    return result"
   ]
  },
  {
   "cell_type": "code",
   "execution_count": 236,
   "metadata": {},
   "outputs": [],
   "source": [
    "#Wczytuje plik binarny\n",
    "def load(file_name):\n",
    "    \n",
    "    file = read_file_bin(file_name)\n",
    "    \n",
    "    return file"
   ]
  },
  {
   "cell_type": "code",
   "execution_count": 237,
   "metadata": {},
   "outputs": [],
   "source": [
    "def compare_strings(original, new_string):\n",
    "    for org, new in zip(original, new_string):\n",
    "        if org != new:\n",
    "            print(org, \"!=\", new)\n",
    "            return \"Teksty są różne\"\n",
    "    return \"Teksty sa równe\""
   ]
  },
  {
   "cell_type": "code",
   "execution_count": null,
   "metadata": {},
   "outputs": [],
   "source": []
  },
  {
   "cell_type": "code",
   "execution_count": null,
   "metadata": {},
   "outputs": [],
   "source": []
  },
  {
   "cell_type": "code",
   "execution_count": 238,
   "metadata": {},
   "outputs": [],
   "source": [
    "lena = load(\"lena.bmp\")"
   ]
  },
  {
   "cell_type": "code",
   "execution_count": 257,
   "metadata": {},
   "outputs": [
    {
     "name": "stdout",
     "output_type": "stream",
     "text": [
      "max_dict_val 255\n",
      "p:  01000010\n",
      "max_num 2683602\n",
      "bin(max_number) 1010001111001011010010\n",
      "max_length 22\n",
      "length numbers: 2683910\n"
     ]
    }
   ],
   "source": [
    "coded_lena, code_len = encode(lena)"
   ]
  },
  {
   "cell_type": "code",
   "execution_count": 240,
   "metadata": {},
   "outputs": [
    {
     "data": {
      "text/plain": [
       "0"
      ]
     },
     "execution_count": 240,
     "metadata": {},
     "output_type": "execute_result"
    }
   ],
   "source": [
    "save(\"coded_lena\", coded_lena)"
   ]
  },
  {
   "cell_type": "code",
   "execution_count": null,
   "metadata": {},
   "outputs": [],
   "source": []
  },
  {
   "cell_type": "code",
   "execution_count": 241,
   "metadata": {},
   "outputs": [],
   "source": [
    "coded_lena = load(\"coded_lena\")"
   ]
  },
  {
   "cell_type": "code",
   "execution_count": 258,
   "metadata": {
    "scrolled": true
   },
   "outputs": [
    {
     "name": "stdout",
     "output_type": "stream",
     "text": [
      "max_dict_val 255\n",
      "p:  66\n",
      "b: 0\n",
      "b: 1\n",
      "b: 0\n",
      "b: 0\n",
      "b: 0\n",
      "b: 0\n",
      "b: 1\n",
      "b: 0\n",
      "01000010\n",
      "len(coded_text) 59046020\n",
      "len(coded_text)/code_len 2683910.0\n",
      "length: 59046020\n",
      "processed numbers: 2683909\n",
      "done\n"
     ]
    }
   ],
   "source": [
    "decoded_lena = decode(coded_lena, code_len)"
   ]
  },
  {
   "cell_type": "code",
   "execution_count": null,
   "metadata": {},
   "outputs": [],
   "source": []
  },
  {
   "cell_type": "code",
   "execution_count": 261,
   "metadata": {},
   "outputs": [
    {
     "data": {
      "text/plain": [
       "92199472"
      ]
     },
     "execution_count": 261,
     "metadata": {},
     "output_type": "execute_result"
    }
   ],
   "source": [
    "len(decoded_lena)"
   ]
  },
  {
   "cell_type": "code",
   "execution_count": 262,
   "metadata": {},
   "outputs": [
    {
     "data": {
      "text/plain": [
       "92199504"
      ]
     },
     "execution_count": 262,
     "metadata": {},
     "output_type": "execute_result"
    }
   ],
   "source": [
    "len(lena)"
   ]
  },
  {
   "cell_type": "code",
   "execution_count": 263,
   "metadata": {},
   "outputs": [
    {
     "data": {
      "text/plain": [
       "0"
      ]
     },
     "execution_count": 263,
     "metadata": {},
     "output_type": "execute_result"
    }
   ],
   "source": [
    "save(\"lena2.bmp\", decoded_lena)"
   ]
  },
  {
   "cell_type": "code",
   "execution_count": 264,
   "metadata": {},
   "outputs": [
    {
     "name": "stdout",
     "output_type": "stream",
     "text": [
      "True != False\n"
     ]
    },
    {
     "data": {
      "text/plain": [
       "'Teksty są różne'"
      ]
     },
     "execution_count": 264,
     "metadata": {},
     "output_type": "execute_result"
    }
   ],
   "source": [
    "compare_strings(decoded_lena, lena)"
   ]
  },
  {
   "cell_type": "code",
   "execution_count": 211,
   "metadata": {},
   "outputs": [
    {
     "data": {
      "text/plain": [
       "bitarray('01000010010000010100001001000001010000010100001001000001010000010100000101000010010000010100001001000001010000100100000101010011')"
      ]
     },
     "execution_count": 211,
     "metadata": {},
     "output_type": "execute_result"
    }
   ],
   "source": [
    "decoded_lena"
   ]
  },
  {
   "cell_type": "code",
   "execution_count": 212,
   "metadata": {},
   "outputs": [
    {
     "data": {
      "text/plain": [
       "bitarray('01000010010000010100001001000001010000010100001001000001010000010100000101000010010000010100001001000001010000100100000101010011')"
      ]
     },
     "execution_count": 212,
     "metadata": {},
     "output_type": "execute_result"
    }
   ],
   "source": [
    "test"
   ]
  },
  {
   "cell_type": "code",
   "execution_count": null,
   "metadata": {},
   "outputs": [],
   "source": []
  },
  {
   "cell_type": "code",
   "execution_count": 27,
   "metadata": {},
   "outputs": [
    {
     "ename": "NameError",
     "evalue": "name 'coded' is not defined",
     "output_type": "error",
     "traceback": [
      "\u001b[1;31m---------------------------------------------------------------------------\u001b[0m",
      "\u001b[1;31mNameError\u001b[0m                                 Traceback (most recent call last)",
      "\u001b[1;32m<ipython-input-27-1a7e05fec0a0>\u001b[0m in \u001b[0;36m<module>\u001b[1;34m\u001b[0m\n\u001b[1;32m----> 1\u001b[1;33m \u001b[0mdecoded\u001b[0m \u001b[1;33m=\u001b[0m \u001b[0mdecode\u001b[0m\u001b[1;33m(\u001b[0m\u001b[0mcoded\u001b[0m\u001b[1;33m,\u001b[0m \u001b[0mcode\u001b[0m\u001b[1;33m)\u001b[0m\u001b[1;33m\u001b[0m\u001b[1;33m\u001b[0m\u001b[0m\n\u001b[0m",
      "\u001b[1;31mNameError\u001b[0m: name 'coded' is not defined"
     ]
    }
   ],
   "source": [
    "decoded = decode(coded, code)"
   ]
  },
  {
   "cell_type": "code",
   "execution_count": 38,
   "metadata": {},
   "outputs": [
    {
     "data": {
      "text/plain": [
       "'Teksty sa równe'"
      ]
     },
     "execution_count": 38,
     "metadata": {},
     "output_type": "execute_result"
    }
   ],
   "source": [
    "compare_strings(wikipedia, decoded)"
   ]
  },
  {
   "cell_type": "code",
   "execution_count": null,
   "metadata": {
    "collapsed": true
   },
   "outputs": [],
   "source": []
  },
  {
   "cell_type": "code",
   "execution_count": 40,
   "metadata": {
    "collapsed": true
   },
   "outputs": [],
   "source": [
    "length = 0\n",
    "i = 0\n",
    "\n",
    "for char, c in code.items():\n",
    "    i += chars[char]\n",
    "    length += len(c) * chars[char]\n",
    "    \n",
    "\n",
    "oczekiwana_dlugosc_kodu = length / i"
   ]
  },
  {
   "cell_type": "code",
   "execution_count": 41,
   "metadata": {},
   "outputs": [
    {
     "data": {
      "text/plain": [
       "4.3090155002237935"
      ]
     },
     "execution_count": 41,
     "metadata": {},
     "output_type": "execute_result"
    }
   ],
   "source": [
    "oczekiwana_dlugosc_kodu"
   ]
  },
  {
   "cell_type": "code",
   "execution_count": 42,
   "metadata": {
    "collapsed": true
   },
   "outputs": [],
   "source": [
    "efektywnosc_kodowania2 = entropia_wikipedii / oczekiwana_dlugosc_kodu"
   ]
  },
  {
   "cell_type": "code",
   "execution_count": 43,
   "metadata": {},
   "outputs": [
    {
     "data": {
      "text/plain": [
       "0.9933582848516693"
      ]
     },
     "execution_count": 43,
     "metadata": {},
     "output_type": "execute_result"
    }
   ],
   "source": [
    "efektywnosc_kodowania2"
   ]
  },
  {
   "cell_type": "code",
   "execution_count": null,
   "metadata": {
    "collapsed": true
   },
   "outputs": [],
   "source": []
  }
 ],
 "metadata": {
  "kernelspec": {
   "display_name": "Python 3",
   "language": "python",
   "name": "python3"
  },
  "language_info": {
   "codemirror_mode": {
    "name": "ipython",
    "version": 3
   },
   "file_extension": ".py",
   "mimetype": "text/x-python",
   "name": "python",
   "nbconvert_exporter": "python",
   "pygments_lexer": "ipython3",
   "version": "3.7.3"
  }
 },
 "nbformat": 4,
 "nbformat_minor": 1
}
